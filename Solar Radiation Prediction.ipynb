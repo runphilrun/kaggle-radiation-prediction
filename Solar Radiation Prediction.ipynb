{
 "cells": [
  {
   "cell_type": "markdown",
   "metadata": {},
   "source": [
    "# 1. Introduction\n",
    "[NASA HI-SEAS](https://hi-seas.org/) missions act as a testbed and training ground for humans as we develop the capability to explore Mars. \n",
    "A recent NASA Space Apps Challenge hackathon asked participants to use data collected from the HI-SEAS site to predict solar radiation given a set of measurable meteorological conditions.\n",
    "Knowing when conditions are most favorable for incident solar radiation is crucial for deciding when and where to deploy solar energy harvesting equipment, especially for colonists or astronauts on the surface of Mars.\n",
    "\n",
    "The original Kaggle dataset & competition can be found here: https://www.kaggle.com/dronio/SolarEnergy\n",
    "\n",
    "## 1.1. Scenario\n",
    "We are participants in a NASA HI-SEAS (Hawai’i Space Exploration Analog and Simulation) mission, simulating a human settlement on Mars. \n",
    "\n",
    "A large solar array and battery bank are installed at the settlement and are the only power source available.\n",
    "On sunny days, the array collects enough energy to power the entire settlement and recharge the battery bank.\n",
    "The battery bank is used (sparingly) at night and on overcast days.\n",
    "There is a strict power budget for operations each day to make sure vital equipment stays online, and we also have a number of experiments to run.\n",
    "\n",
    "We have been collecting data at our settlement since the end of the last HI-SEAS mission in September, 2016.\n",
    "It is now January, 2017, and our mission is about to begin.\n",
    "\n",
    "Can we model solar radiation as a function of the information our sensors can gather, based on previously collected data?\n",
    "\n",
    "## 1.2. About this dataset\n",
    "These datasets are meteorological data from the HI-SEAS weather station from four months (September through December 2016) between Mission IV and Mission V.\n",
    "\n",
    "For each dataset, the fields are:\n",
    "\n",
    "A row number (1-n) is useful in sorting this export's results The UNIX time_t date (seconds since Jan 1, 1970). Useful in sorting this export's results with other export's results The date in `yyyy-mm-dd` format The local time of day in `hh:mm:ss` 24-hour format The numeric data, if any (may be an empty string) The text data, if any (may be an empty string)\n",
    "\n",
    "The units of each dataset are:\n",
    "\n",
    "* Solar radiation: watts per meter^2\n",
    "* Temperature: degrees Fahrenheit\n",
    "* Humidity: percent\n",
    "* Barometric pressure: Hg\n",
    "* Wind direction: degrees\n",
    "* Wind speed: miles per hour\n",
    "* Sunrise/sunset: Hawaii time\n",
    "\n",
    "## 1.3. About this kernel\n",
    "The purpose of this kernel is to explore this dataset and apply basic machine learning techniques in order to predict optimal conditions for maximal radiation.\n",
    "\n",
    "This is my first foray into the world of data science and machine learning (ML). \n",
    "As such, it is expected that the following code will not be optimized for memory, runtime, or readability.\n",
    "However, the result is still expected to be at worst interesting, at most useful.\n",
    "\n",
    "I have decided to use Python 3 since it is widely used for data science, a versatile and useful language (even outside of data processing and ML), and a new language to me -- I'd like the practice.\n",
    "\n",
    "## 1.4. Thanks\n",
    "I would like to thank the following groups and individuals for providing the tutorials, resources, and inspiration to conduct this study.\n",
    "* [NASA & Kaggle](https://www.kaggle.com/dronio/SolarEnergy), for providing this dataset.\n",
    "* [sentdex on YouTube](https://www.youtube.com/playlist?list=PLQVvvaa0QuDfKTOs3Keq_kaG2P55YRn5v), for his incredible series on machine learning and everything else Python.\n",
    "* Sarah Linden, for encouraging me to do engineering projects in my free time."
   ]
  },
  {
   "cell_type": "markdown",
   "metadata": {},
   "source": [
    "# 2. Preprocessing the data\n",
    "Before applying any machine learning techniques, the input data must be ingested and conditioned.\n",
    "Not all the data provided is useful!"
   ]
  },
  {
   "cell_type": "markdown",
   "metadata": {},
   "source": [
    "## 2.1. Defining Features and Labels\n",
    "Machine learning algorithms operate on _features_ to predict _labels_.\n",
    "\n",
    "* A __feature__ is an attribute of the system that affects the output. \n",
    "Features act as \"inputs\" to the model.\n",
    "Ideally, features are _independent_ variables.\n",
    "* A __label__ is the value being predicted. \n",
    "Labels act as \"outputs\" of the model.\n",
    "\n",
    "Now, let's consider our scenario. \n",
    "Recall the available data:\n",
    "* Date\n",
    "* Time of Day \n",
    "* Solar Radiation\n",
    "* Temperature\n",
    "* Pressure\n",
    "* Humidity\n",
    "* Wind Direction\n",
    "* Wind Speed\n",
    "* Time at Sunrise\n",
    "* Time at Sunset\n",
    "\n",
    "### 2.1.1. Features\n",
    "At every timestamp within each day, there are values for all other variables.\n",
    "No other variables impact the values of time or date.\n",
    "Therefore __date__ and __time of day__ are _independent_ variables.\n",
    "\n",
    "For each date, there is _one_ value for `Time at Sunrise` and `Time at Sunset`. \n",
    "The difference of these values yields the length of a given day, which is directly related to the date.\n",
    "More exploration of the dataset is needed to determine if the length of a given date supersedes `date` in the amount of useful information it provides.\n",
    "\n",
    "Temperature, pressure, and humidity do not directly affect one another significantly, but since they are all properties which describe the local atmosphere, they do not vary independently from one another.\n",
    "Similarly, all three of these variables have a stong relationship to time of day. \n",
    "\n",
    "Therefore we consider the following variables to be _features_ to the machine learning algorithm:\n",
    "* Date (or Length of Day)\n",
    "* Time of day\n",
    "* Temperature\n",
    "* Pressure\n",
    "* Humidity\n",
    "\n",
    "Further exploration of the dataset may modify this list, but for now this is our best guess.\n",
    "\n",
    "### 2.1.2. Labels\n",
    "While one's instinct may be to consider `Radiation` to be a label, recall that the goal of this algorithm is to _predict_ the radiation level. \n",
    "A more effective label is the __predicted radiation__. Recorded radiation measurements serve as the truth values to train and test the supervised machine learning algorithm.\n",
    "\n",
    "### 2.1.3. Irrelevant Data\n",
    "Wind speed and wind direction are also properties of the atmosphere, but do not significantly affect the optical throughput of the atmosphere -- at least, not enough to skew the solar radiation measured incident to the HI-SEAS solar array.\n",
    "Therefore, wind speed and wind direction are considered irrelevant to this study and omitted from the dataset."
   ]
  },
  {
   "cell_type": "markdown",
   "metadata": {},
   "source": [
    "## 2.2. Importing the Data\n",
    "First, all of the data is loaded in as the appropriate data types.\n",
    "The column `Data` contains a single, unchanging timestamp. This appears to be the dat the dataset was published, but that is unclear.\n",
    "For our purposes, this is not useful information and the column is removed from the dataset.\n",
    "\n",
    "All units are converted into their SI counterparts (if they are not already in SI units).\n",
    "Time of day, sunrise, and sunset values are converted to `datetime` objects which are stored as timezone naive UNIX time values (we can always translate it back later)."
   ]
  },
  {
   "cell_type": "code",
   "execution_count": 7,
   "metadata": {},
   "outputs": [],
   "source": [
    "## IMPORT LIBRARIES\n",
    "import numpy as np # linear algebra\n",
    "import pandas as pd # data processing, CSV file I/O (e.g. pd.read_csv)\n",
    "\n",
    "def ingest_data(filename):\n",
    "    '''Read data from a CSV file and construct a pandas DataFrame\n",
    "    Inputs:\n",
    "        filename as string\n",
    "    Outputs:\n",
    "        df as DataFrame\n",
    "    '''\n",
    "    # read csv file\n",
    "    df = pd.read_csv(filename)\n",
    "\n",
    "    # 'Data' column is unused. All elements contain the same value.\n",
    "    df.drop(['Data','WindDirection(Degrees)','Speed','Time'],axis=1,inplace=True)\n",
    "\n",
    "    # interpret columns as appropriate data types to ensure compatibility\n",
    "    df['UNIXTime']      = df['UNIXTime'].astype(str)\n",
    "    df['Radiation']     = df['Radiation'].astype(float)\n",
    "    df['Temperature']   = df['Temperature'].astype(float) # or int\n",
    "    df['Pressure']      = df['Pressure'].astype(float)\n",
    "    df['Humidity']      = df['Humidity'].astype(int) # or int\n",
    "    df['TimeSunRise']   = df['TimeSunRise'].astype(str)\n",
    "    df['TimeSunSet']    = df['TimeSunSet'].astype(str)\n",
    "\n",
    "    # convert units to SI\n",
    "    df.loc[:,'Temperature'] = (df.loc[:,'Temperature'] + 459.67)*5.0/9.0 # degrees F --> Kelvin\n",
    "    df.loc[:,'Pressure'] *= 3386.0 # inches Hg --> Pascal\n",
    "\n",
    "    # convert times to UNIX timestamp, time zone naive\n",
    "    df['UNIXTime'] = pd.to_datetime(df['UNIXTime'],unit='s')\n",
    "    df['TimeSunRise'] = pd.to_datetime(df['TimeSunRise'],format='%H:%M:%S')\n",
    "    df['TimeSunSet'] = pd.to_datetime(df['TimeSunSet'],format='%H:%M:%S')\n",
    "\n",
    "    # compute length of each day\n",
    "    df['DayLength'] = (df['TimeSunSet']-df['TimeSunRise'])/np.timedelta64(1, 's')\n",
    "\n",
    "    # we don't need sunrise or sunset times anymore, so drop them\n",
    "    df.drop(['TimeSunRise','TimeSunSet'],axis=1,inplace=True)\n",
    "\n",
    "    # break down UNIX time into calendar and time components\n",
    "    df['Month'] = df['UNIXTime'].dt.month\n",
    "    df['Date'] = df['UNIXTime'].dt.day\n",
    "    df['Hour'] = df['UNIXTime'].dt.hour # for easier grouping and math\n",
    "    df['Minute'] = df['UNIXTime'].dt.minute + 60/df['UNIXTime'].dt.second # seconds as decimal of minute\n",
    "\n",
    "    df.sort_values('UNIXTime',inplace=True) # sort by UNIXTime\n",
    "\n",
    "    # assign unit labels to data keys\n",
    "    units={'Time':'HST (UTC-10)','Radiation':'W/m^2','Temperature':'K','Pressure':'Pa','Humidity':'\\%','DayLength':'sec'}\n",
    "    return df, units"
   ]
  },
  {
   "cell_type": "code",
   "execution_count": 8,
   "metadata": {},
   "outputs": [
    {
     "name": "stdout",
     "output_type": "stream",
     "text": [
      "                UNIXTime  Radiation  Temperature   Pressure  Humidity  \\\n",
      "7416 2016-09-01 10:00:08       2.58   283.705556  103035.98       103   \n",
      "7415 2016-09-01 10:05:10       2.83   283.705556  103035.98       103   \n",
      "7414 2016-09-01 10:20:06       2.16   283.705556  103035.98       103   \n",
      "7413 2016-09-01 10:25:05       2.21   283.705556  103035.98       103   \n",
      "7412 2016-09-01 10:30:09       2.25   283.705556  103035.98       103   \n",
      "\n",
      "      DayLength  Month  Date  Hour     Minute  \n",
      "7416    45060.0      9     1    10   7.500000  \n",
      "7415    45060.0      9     1    10  11.000000  \n",
      "7414    45060.0      9     1    10  30.000000  \n",
      "7413    45060.0      9     1    10  37.000000  \n",
      "7412    45060.0      9     1    10  36.666667  \n"
     ]
    }
   ],
   "source": [
    "df, units = ingest_data('input/SolarPrediction.csv')\n",
    "print(df.head())"
   ]
  },
  {
   "cell_type": "markdown",
   "metadata": {},
   "source": [
    "Note that the `Time` column is dropped in favor of the `UNIXTime` timestamp. UNIX time encodes both date and time, so the `Time` column is redundant.\n",
    "\n",
    "Data is sorted by UNIX time. While UNIX Time could serve as an index, using a `datetime` object as the index leads to unnecessary complication when it comes to dataframe operations down the road.\n",
    "Month, day, hour, and minute can be separated into their own columns for grouping and other plotting purposes, such as specifying histogram bins.\n",
    "UNIXTime contains all the same information but `datetime` objects are not as easy to handle as integers and floats."
   ]
  },
  {
   "cell_type": "markdown",
   "metadata": {},
   "source": [
    "## 2.3. Exploring the Data\n",
    "Plotting libraries are imported to visualize data."
   ]
  },
  {
   "cell_type": "code",
   "execution_count": 1,
   "metadata": {
    "collapsed": true
   },
   "outputs": [],
   "source": [
    "import matplotlib.pyplot as plt # plotting tools\n",
    "import seaborn as sns # statistical plotting tools\n",
    "\n",
    "# make IPython render plots inline\n",
    "%matplotlib inline "
   ]
  },
  {
   "cell_type": "markdown",
   "metadata": {},
   "source": [
    "There are several timescales to consider here:\n",
    "* Monthly\n",
    "* Daily\n",
    "* Hourly\n",
    "\n",
    "Looking into data by the minute is too granular to draw broad conclusions at this stage, but something to be considered when constructing the prediction algorithm.\n",
    "\n",
    "Radiation is expected vary with the date due to seasonal weather changes. \n",
    "The dataset only contains data from autumn and winter, so the model developed from this data may be less capable of predicting radiation during the summer. \n",
    "Fortunately, the seasonal climate at the HI-SEAS facility in Hawai'i is fairly consistent year-round.\n",
    "\n",
    "Recalling the features identified in 2.1.1, we plot Radiation as a function of Temperature, Humidity, and Pressure on the various timescales."
   ]
  },
  {
   "cell_type": "code",
   "execution_count": 13,
   "metadata": {},
   "outputs": [
    {
     "data": {
      "image/png": "[encoded data removed]",
      "text/plain": [
       "<matplotlib.figure.Figure at 0x2a5d17802b0>"
      ]
     },
     "metadata": {},
     "output_type": "display_data"
    }
   ],
   "source": [
    "def humidity(df,units):\n",
    "    '''Plot humidity vs radiation over time'''\n",
    "    df_month = df.groupby('Month')\n",
    "    df_day = df.groupby('Date')\n",
    "    df_hour = df.groupby('Hour')\n",
    "    plt.figure(figsize=(18, 6))\n",
    "    plt.subplot(131)\n",
    "    ax_hh=sns.barplot(x='Hour',y='Humidity',data=df)\n",
    "    plt.subplot(132)\n",
    "    ax_dh=sns.barplot(x='Date',y='Humidity',data=df)\n",
    "    plt.subplot(133)\n",
    "    ax_mh=sns.barplot(x='Month',y='Humidity',data=df)\n",
    "    sns.plt.show()\n",
    "    \n",
    "humidity(df,units)"
   ]
  },
  {
   "cell_type": "markdown",
   "metadata": {},
   "source": [
    "# 3. Preparing the Prediction Algorithm\n",
    "We desire an algorithm that will predict values (radiation for a given set of inputs), we have plenty of data to train with, and we have \"unlimited\" time. Thus, we select a __regression__ model.\n",
    "There are many regression models to choose from like Linear Regression and Neural Networks, and there may be more than one that is appropriate.\n",
    "\n",
    "Even before we downselect to a specific model, we can prepare a prediction algorithm that takes in our data and makes a prediction.\n",
    "Using [`scikit learn`](http://scikit-learn.org/stable/supervised_learning.html#supervised-learning), it is easy to swap out different models and maintain the same higher-level structure to the program."
   ]
  },
  {
   "cell_type": "code",
   "execution_count": null,
   "metadata": {
    "collapsed": true
   },
   "outputs": [],
   "source": []
  }
 ],
 "metadata": {
  "kernelspec": {
   "display_name": "Python 3",
   "language": "python",
   "name": "python3"
  },
  "language_info": {
   "codemirror_mode": {
    "name": "ipython",
    "version": 3
   },
   "file_extension": ".py",
   "mimetype": "text/x-python",
   "name": "python",
   "nbconvert_exporter": "python",
   "pygments_lexer": "ipython3",
   "version": "3.6.1"
  }
 },
 "nbformat": 4,
 "nbformat_minor": 2
}
